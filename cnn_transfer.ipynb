{
 "metadata": {
  "language_info": {
   "codemirror_mode": {
    "name": "ipython",
    "version": 3
   },
   "file_extension": ".py",
   "mimetype": "text/x-python",
   "name": "python",
   "nbconvert_exporter": "python",
   "pygments_lexer": "ipython3",
   "version": "3.8.5-final"
  },
  "orig_nbformat": 2,
  "kernelspec": {
   "name": "python3",
   "display_name": "Python 3.8.5 64-bit",
   "metadata": {
    "interpreter": {
     "hash": "38740d3277777e2cd7c6c2cc9d8addf5118fdf3f82b1b39231fd12aeac8aee8b"
    }
   }
  }
 },
 "nbformat": 4,
 "nbformat_minor": 2,
 "cells": [
  {
   "source": [
    "## Importing the Libraries"
   ],
   "cell_type": "markdown",
   "metadata": {}
  },
  {
   "cell_type": "code",
   "execution_count": 1,
   "metadata": {},
   "outputs": [],
   "source": [
    "import os\n",
    "import tensorflow as tf\n",
    "from tensorflow.keras.optimizers import RMSprop\n",
    "from tensorflow.keras.preprocessing.image import ImageDataGenerator\n",
    "import matplotlib.pyplot as plt\n",
    "import matplotlib.image as mpimg"
   ]
  },
  {
   "source": [
    "# Running pre-processing file\n",
    "%run directory.ipynb"
   ],
   "cell_type": "code",
   "metadata": {},
   "execution_count": 24,
   "outputs": []
  },
  {
   "source": [
    "## Defining Training Images"
   ],
   "cell_type": "markdown",
   "metadata": {}
  },
  {
   "cell_type": "code",
   "execution_count": 2,
   "metadata": {},
   "outputs": [
    {
     "output_type": "stream",
     "name": "stdout",
     "text": [
      "Found 3410 images belonging to 62 classes.\n"
     ]
    }
   ],
   "source": [
    "TRAINING_DIR = \"tmp\"\n",
    "\n",
    "train_datagen = ImageDataGenerator(\n",
    "                rescale = 1/255.0,\n",
    "                shear_range=0.2,\n",
    "                zoom_range=0.2,\n",
    "                horizontal_flip=True)\n",
    "train_set = train_datagen.flow_from_directory(TRAINING_DIR,\n",
    "                target_size=(150, 150),\n",
    "                batch_size=4,\n",
    "                class_mode='categorical')"
   ]
  },
  {
   "source": [
    "## Designing Model"
   ],
   "cell_type": "markdown",
   "metadata": {}
  },
  {
   "cell_type": "code",
   "execution_count": 3,
   "metadata": {},
   "outputs": [],
   "source": [
    "model = tf.keras.models.Sequential([\n",
    "    tf.keras.layers.Conv2D(16, (3,3), activation='relu', input_shape = (150, 150, 3)),\n",
    "    tf.keras.layers.MaxPooling2D(2, 2),\n",
    "    tf.keras.layers.Conv2D(32, (3,3), activation='relu'),\n",
    "    tf.keras.layers.MaxPooling2D(2, 2),\n",
    "    tf.keras.layers.Conv2D(64, (3,3), activation='relu'),\n",
    "    tf.keras.layers.MaxPooling2D(2, 2),\n",
    "    tf.keras.layers.Flatten(),\n",
    "    tf.keras.layers.Dense(units=512, activation='relu'),\n",
    "    tf.keras.layers.Dense(units=62, activation='softmax'),\n",
    "    #tf.keras.layers.Flatten()\n",
    "])"
   ]
  },
  {
   "cell_type": "code",
   "execution_count": 4,
   "metadata": {},
   "outputs": [],
   "source": [
    "model.compile(optimizer='adam', loss = tf.keras.losses.CategoricalCrossentropy(), metrics= tf.keras.metrics.CategoricalAccuracy())"
   ]
  },
  {
   "cell_type": "code",
   "execution_count": 5,
   "metadata": {},
   "outputs": [
    {
     "output_type": "stream",
     "name": "stdout",
     "text": [
      "Model: \"sequential\"\n_________________________________________________________________\nLayer (type)                 Output Shape              Param #   \n=================================================================\nconv2d (Conv2D)              (None, 148, 148, 16)      448       \n_________________________________________________________________\nmax_pooling2d (MaxPooling2D) (None, 74, 74, 16)        0         \n_________________________________________________________________\nconv2d_1 (Conv2D)            (None, 72, 72, 32)        4640      \n_________________________________________________________________\nmax_pooling2d_1 (MaxPooling2 (None, 36, 36, 32)        0         \n_________________________________________________________________\nconv2d_2 (Conv2D)            (None, 34, 34, 64)        18496     \n_________________________________________________________________\nmax_pooling2d_2 (MaxPooling2 (None, 17, 17, 64)        0         \n_________________________________________________________________\nflatten (Flatten)            (None, 18496)             0         \n_________________________________________________________________\ndense (Dense)                (None, 512)               9470464   \n_________________________________________________________________\ndense_1 (Dense)              (None, 62)                31806     \n=================================================================\nTotal params: 9,525,854\nTrainable params: 9,525,854\nNon-trainable params: 0\n_________________________________________________________________\n"
     ]
    }
   ],
   "source": [
    "model.summary()"
   ]
  },
  {
   "source": [
    "## Fitting on Model"
   ],
   "cell_type": "markdown",
   "metadata": {}
  },
  {
   "cell_type": "code",
   "execution_count": 10,
   "metadata": {},
   "outputs": [
    {
     "output_type": "stream",
     "name": "stdout",
     "text": [
      "Epoch 1/50\n",
      "8/8 [==============================] - 0s 52ms/step - loss: 1.8418 - categorical_accuracy: 0.5000\n",
      "Epoch 2/50\n",
      "8/8 [==============================] - 0s 59ms/step - loss: 1.8839 - categorical_accuracy: 0.5000\n",
      "Epoch 3/50\n",
      "8/8 [==============================] - 0s 46ms/step - loss: 1.3088 - categorical_accuracy: 0.5625\n",
      "Epoch 4/50\n",
      "8/8 [==============================] - 0s 53ms/step - loss: 1.6876 - categorical_accuracy: 0.6562\n",
      "Epoch 5/50\n",
      "8/8 [==============================] - 0s 55ms/step - loss: 1.5191 - categorical_accuracy: 0.5625\n",
      "Epoch 6/50\n",
      "8/8 [==============================] - 0s 46ms/step - loss: 2.0351 - categorical_accuracy: 0.4688\n",
      "Epoch 7/50\n",
      "8/8 [==============================] - 0s 47ms/step - loss: 1.5340 - categorical_accuracy: 0.4062\n",
      "Epoch 8/50\n",
      "8/8 [==============================] - 0s 50ms/step - loss: 1.7531 - categorical_accuracy: 0.5000\n",
      "Epoch 9/50\n",
      "8/8 [==============================] - 0s 58ms/step - loss: 1.5533 - categorical_accuracy: 0.5000\n",
      "Epoch 10/50\n",
      "8/8 [==============================] - 0s 60ms/step - loss: 1.4830 - categorical_accuracy: 0.5625\n",
      "Epoch 11/50\n",
      "8/8 [==============================] - 0s 48ms/step - loss: 1.9471 - categorical_accuracy: 0.4375\n",
      "Epoch 12/50\n",
      "8/8 [==============================] - 0s 45ms/step - loss: 1.2297 - categorical_accuracy: 0.6562\n",
      "Epoch 13/50\n",
      "8/8 [==============================] - 0s 46ms/step - loss: 2.0326 - categorical_accuracy: 0.4688\n",
      "Epoch 14/50\n",
      "8/8 [==============================] - 0s 53ms/step - loss: 1.2482 - categorical_accuracy: 0.5938\n",
      "Epoch 15/50\n",
      "8/8 [==============================] - 0s 51ms/step - loss: 1.7237 - categorical_accuracy: 0.3438\n",
      "Epoch 16/50\n",
      "8/8 [==============================] - 0s 55ms/step - loss: 1.8481 - categorical_accuracy: 0.4062\n",
      "Epoch 17/50\n",
      "8/8 [==============================] - 0s 44ms/step - loss: 1.3986 - categorical_accuracy: 0.6875\n",
      "Epoch 18/50\n",
      "8/8 [==============================] - 0s 58ms/step - loss: 1.8719 - categorical_accuracy: 0.5000\n",
      "Epoch 19/50\n",
      "8/8 [==============================] - 0s 55ms/step - loss: 1.2571 - categorical_accuracy: 0.6562\n",
      "Epoch 20/50\n",
      "8/8 [==============================] - 0s 54ms/step - loss: 2.1357 - categorical_accuracy: 0.4062\n",
      "Epoch 21/50\n",
      "8/8 [==============================] - 0s 46ms/step - loss: 1.5957 - categorical_accuracy: 0.5625\n",
      "Epoch 22/50\n",
      "8/8 [==============================] - 0s 53ms/step - loss: 1.3653 - categorical_accuracy: 0.6562\n",
      "Epoch 23/50\n",
      "8/8 [==============================] - 0s 50ms/step - loss: 1.4255 - categorical_accuracy: 0.5312\n",
      "Epoch 24/50\n",
      "8/8 [==============================] - 1s 65ms/step - loss: 1.8362 - categorical_accuracy: 0.4688\n",
      "Epoch 25/50\n",
      "8/8 [==============================] - 0s 53ms/step - loss: 1.3366 - categorical_accuracy: 0.6562\n",
      "Epoch 26/50\n",
      "8/8 [==============================] - 0s 45ms/step - loss: 2.0341 - categorical_accuracy: 0.3438\n",
      "Epoch 27/50\n",
      "8/8 [==============================] - 0s 44ms/step - loss: 1.4022 - categorical_accuracy: 0.6562\n",
      "Epoch 28/50\n",
      "8/8 [==============================] - 0s 48ms/step - loss: 1.4556 - categorical_accuracy: 0.6250\n",
      "Epoch 29/50\n",
      "8/8 [==============================] - 0s 40ms/step - loss: 1.2003 - categorical_accuracy: 0.6250\n",
      "Epoch 30/50\n",
      "8/8 [==============================] - 0s 44ms/step - loss: 1.1754 - categorical_accuracy: 0.6250\n",
      "Epoch 31/50\n",
      "8/8 [==============================] - 0s 51ms/step - loss: 1.6981 - categorical_accuracy: 0.5312\n",
      "Epoch 32/50\n",
      "8/8 [==============================] - 0s 45ms/step - loss: 1.4053 - categorical_accuracy: 0.5312\n",
      "Epoch 33/50\n",
      "8/8 [==============================] - 0s 47ms/step - loss: 1.9722 - categorical_accuracy: 0.5312\n",
      "Epoch 34/50\n",
      "8/8 [==============================] - 0s 50ms/step - loss: 1.3195 - categorical_accuracy: 0.5625\n",
      "Epoch 35/50\n",
      "8/8 [==============================] - 0s 44ms/step - loss: 1.2818 - categorical_accuracy: 0.6875\n",
      "Epoch 36/50\n",
      "8/8 [==============================] - 0s 43ms/step - loss: 1.2771 - categorical_accuracy: 0.6250\n",
      "Epoch 37/50\n",
      "8/8 [==============================] - 0s 47ms/step - loss: 1.7625 - categorical_accuracy: 0.5312\n",
      "Epoch 38/50\n",
      "8/8 [==============================] - 0s 43ms/step - loss: 1.3765 - categorical_accuracy: 0.6562\n",
      "Epoch 39/50\n",
      "8/8 [==============================] - 0s 40ms/step - loss: 1.4384 - categorical_accuracy: 0.5625\n",
      "Epoch 40/50\n",
      "8/8 [==============================] - 0s 45ms/step - loss: 1.3932 - categorical_accuracy: 0.5312\n",
      "Epoch 41/50\n",
      "8/8 [==============================] - 0s 60ms/step - loss: 1.2946 - categorical_accuracy: 0.6250\n",
      "Epoch 42/50\n",
      "8/8 [==============================] - 0s 44ms/step - loss: 1.0174 - categorical_accuracy: 0.6875\n",
      "Epoch 43/50\n",
      "8/8 [==============================] - 0s 57ms/step - loss: 1.5264 - categorical_accuracy: 0.5312\n",
      "Epoch 44/50\n",
      "8/8 [==============================] - 0s 49ms/step - loss: 1.3476 - categorical_accuracy: 0.5938\n",
      "Epoch 45/50\n",
      "8/8 [==============================] - 0s 45ms/step - loss: 1.9715 - categorical_accuracy: 0.5312\n",
      "Epoch 46/50\n",
      "8/8 [==============================] - 0s 47ms/step - loss: 1.3094 - categorical_accuracy: 0.6562\n",
      "Epoch 47/50\n",
      "8/8 [==============================] - 0s 45ms/step - loss: 1.2684 - categorical_accuracy: 0.7812\n",
      "Epoch 48/50\n",
      "8/8 [==============================] - 0s 48ms/step - loss: 1.2598 - categorical_accuracy: 0.7188\n",
      "Epoch 49/50\n",
      "8/8 [==============================] - 0s 46ms/step - loss: 1.9352 - categorical_accuracy: 0.5000\n",
      "Epoch 50/50\n",
      "8/8 [==============================] - 0s 43ms/step - loss: 1.4240 - categorical_accuracy: 0.5312\n"
     ]
    }
   ],
   "source": [
    "history = model.fit_generator(train_set, steps_per_epoch = 8,epochs = 50)"
   ]
  },
  {
   "source": [
    "## Evaluating on Training Set"
   ],
   "cell_type": "markdown",
   "metadata": {}
  },
  {
   "cell_type": "code",
   "execution_count": 11,
   "metadata": {},
   "outputs": [],
   "source": [
    "results = model.evaluate(train_set, verbose=0)"
   ]
  },
  {
   "cell_type": "code",
   "execution_count": 12,
   "metadata": {},
   "outputs": [
    {
     "output_type": "execute_result",
     "data": {
      "text/plain": [
       "[1.3791046142578125, 0.6126099824905396]"
      ]
     },
     "metadata": {},
     "execution_count": 12
    }
   ],
   "source": [
    "results"
   ]
  },
  {
   "cell_type": "code",
   "execution_count": null,
   "metadata": {},
   "outputs": [],
   "source": []
  }
 ]
}